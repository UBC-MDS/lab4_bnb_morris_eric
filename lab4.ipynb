{
 "cells": [
  {
   "cell_type": "code",
   "execution_count": 4,
   "metadata": {
    "deletable": false,
    "editable": false
   },
   "outputs": [],
   "source": [
    "# Initialize Otter\n",
    "import otter\n",
    "grader = otter.Notebook(\"lab4.ipynb\")"
   ]
  },
  {
   "cell_type": "code",
   "execution_count": 5,
   "metadata": {},
   "outputs": [
    {
     "data": {
      "text/plain": [
       "RendererRegistry.enable('mimetype')"
      ]
     },
     "execution_count": 5,
     "metadata": {},
     "output_type": "execute_result"
    }
   ],
   "source": [
    "from sklearn.preprocessing import StandardScaler, KBinsDiscretizer, OneHotEncoder\n",
    "from sklearn.impute import SimpleImputer\n",
    "from sklearn.compose import make_column_transformer\n",
    "from sklearn.pipeline import make_pipeline\n",
    "from sklearn.compose import TransformedTargetRegressor\n",
    "from sklearn.dummy import DummyRegressor\n",
    "from sklearn.ensemble import RandomForestClassifier\n",
    "from sklearn.linear_model import RidgeCV\n",
    "from sklearn.model_selection import (\n",
    "    GridSearchCV,\n",
    "    RandomizedSearchCV,\n",
    "    cross_val_score,\n",
    "    cross_validate,\n",
    "    train_test_split,\n",
    ")\n",
    "import altair as alt\n",
    "alt.data_transformers.enable('data_server')\n",
    "alt.renderers.enable('mimetype')"
   ]
  },
  {
   "cell_type": "markdown",
   "metadata": {},
   "source": [
    "# Lab 4: Putting it all together in a mini project\n",
    "\n",
    "**This lab is an optional group lab.** You can choose to work alone of in a group of up to four students. You are in charge of how you want to work and who you want to work with. Maybe you really want to go through all the steps of the ML process yourself or maybe you want to practice your collaboration skills, it is up to you! Just remember to indicate who your group members are (if any) when you submit on Gradescope. If you choose to work in a group, you only need to use one of your GitHub repos."
   ]
  },
  {
   "cell_type": "markdown",
   "metadata": {},
   "source": [
    "<!-- BEGIN QUESTION -->\n",
    "\n",
    "<div class=\"alert alert-info\">\n",
    "\n",
    "## Submission instructions\n",
    "rubric={mechanics}\n",
    "\n",
    "<p>You receive marks for submitting your lab correctly, please follow these instructions:</p>\n",
    "\n",
    "<ul>\n",
    "  <li><a href=\"https://ubc-mds.github.io/resources_pages/general_lab_instructions/\">\n",
    "      Follow the general lab instructions.</a></li>\n",
    "  <li><a href=\"https://github.com/UBC-MDS/public/tree/master/rubric\">\n",
    "      Click here to view a description of the rubrics used to grade the questions</a></li>\n",
    "  <li>Make at least three commits.</li>\n",
    "  <li>Push your <code>.ipynb</code> file to your GitHub repository for this lab and upload it to Gradescope.</li>\n",
    "    <ul>\n",
    "      <li>Before submitting, make sure you restart the kernel and rerun all cells.</li>\n",
    "    </ul>\n",
    "  <li>Also upload a <code>.pdf</code> export of the notebook to facilitate grading of manual questions (preferably WebPDF, you can select two files when uploading to gradescope)</li>\n",
    "  <li>Don't change any variable names that are given to you, don't move cells around, and don't include any code to install packages in the notebook.</li>\n",
    "  <li>The data you download for this lab <b>SHOULD NOT BE PUSHED TO YOUR REPOSITORY</b> (there is also a <code>.gitignore</code> in the repo to prevent this).</li>\n",
    "  <li>Include a clickable link to your GitHub repo for the lab just below this cell\n",
    "    <ul>\n",
    "      <li>It should look something like this https://github.ubc.ca/MDS-2020-21/DSCI_531_labX_yourcwl.</li>\n",
    "    </ul>\n",
    "  </li>\n",
    "</ul>\n",
    "</div>\n",
    "\n",
    "_Points:_ 2"
   ]
  },
  {
   "cell_type": "markdown",
   "metadata": {},
   "source": [
    "https://github.com/UBC-MDS/lab4_bnb_morris_eric"
   ]
  },
  {
   "cell_type": "markdown",
   "metadata": {},
   "source": [
    "<!-- END QUESTION -->\n",
    "\n",
    "## Introduction <a name=\"in\"></a>\n",
    "\n",
    "In this lab you will be working on an open-ended mini-project, where you will put all the different things you have learned so far in 571 and 573 together to solve an interesting problem.\n",
    "\n",
    "A few notes and tips when you work on this mini-project: \n",
    "\n",
    "#### Tips\n",
    "1. Since this mini-project is open-ended there might be some situations where you'll have to use your own judgment and make your own decisions (as you would be doing when you work as a data scientist). Make sure you explain your decisions whenever necessary. \n",
    "2. **Do not include everything you ever tried in your submission** -- it's fine just to have your final code. That said, your code should be reproducible and well-documented. For example, if you chose your hyperparameters based on some hyperparameter optimization experiment, you should leave in the code for that experiment so that someone else could re-run it and obtain the same hyperparameters, rather than mysteriously just setting the hyperparameters to some (carefully chosen) values in your code. \n",
    "3. If you realize that you are repeating a lot of code try to organize it in functions. Clear presentation of your code, experiments, and results is the key to be successful in this lab. You may use code from lecture notes or previous lab solutions with appropriate attributions. \n",
    "\n",
    "#### Assessment\n",
    "We don't have some secret target score that you need to achieve to get a good grade. **You'll be assessed on demonstration of mastery of course topics, clear presentation, and the quality of your analysis and results.** For example, if you just have a bunch of code and no text or figures, that's not good. If you instead do a bunch of sane things and you have clearly motivated your choices, but still get lower model performance than your friend, don't sweat it.\n",
    "\n",
    "\n",
    "#### A final note\n",
    "Finally, the style of this \"project\" question is different from other assignments. It'll be up to you to decide when you're \"done\" -- in fact, this is one of the hardest parts of real projects. But please don't spend WAY too much time on this... perhaps \"several hours\" but not \"many hours\" is a good guideline for a high quality submission. Of course if you're having fun you're welcome to spend as much time as you want! But, if so, try not to do it out of perfectionism or getting the best possible grade. Do it because you're learning and enjoying it. Students from the past cohorts have found such kind of labs useful and fun and we hope you enjoy it as well. "
   ]
  },
  {
   "cell_type": "markdown",
   "metadata": {},
   "source": [
    "<!-- BEGIN QUESTION -->\n",
    "\n",
    "<div class=\"alert alert-info\">\n",
    "\n",
    "## 1. Pick your problem and explain the prediction problem <a name=\"1\"></a>\n",
    "rubric={reasoning}\n",
    "\n",
    "In this mini project, you will pick one of the following problems: \n",
    "\n",
    "1. A classification problem of predicting whether a credit card client will default or not. For this problem, you will use [Default of Credit Card Clients Dataset](https://www.kaggle.com/uciml/default-of-credit-card-clients-dataset). In this data set, there are 30,000 examples and 24 features, and the goal is to estimate whether a person will default (fail to pay) their credit card bills; this column is labeled \"default.payment.next.month\" in the data. The rest of the columns can be used as features. You may take some ideas and compare your results with [the associated research paper](https://www.sciencedirect.com/science/article/pii/S0957417407006719), which is available through [the UBC library](https://www.library.ubc.ca/). \n",
    "\n",
    "OR \n",
    "\n",
    "2. A regression problem of predicting `reviews_per_month`, as a proxy for the popularity of the listing with [New York City Airbnb listings from 2019 dataset](https://www.kaggle.com/dgomonov/new-york-city-airbnb-open-data). Airbnb could use this sort of model to predict how popular future listings might be before they are posted, perhaps to help guide hosts create more appealing listings. In reality they might instead use something like vacancy rate or average rating as their target, but we do not have that available here.\n",
    "\n",
    "**Your tasks:**\n",
    "\n",
    "1. Spend some time understanding the problem and what each feature means. Write a few sentences on your initial thoughts on the problem and the dataset. \n",
    "2. Download the dataset and read it as a pandas dataframe. \n",
    "3. Carry out any preliminary preprocessing, if needed (e.g., changing feature names, handling of NaN values etc.)\n",
    "    \n",
    "</div>\n",
    "\n",
    "_Points:_ 3"
   ]
  },
  {
   "cell_type": "markdown",
   "metadata": {},
   "source": [
    "1. The dataset shows the Airbnb listings in New York City in 2019 with the goal of predicting the number of reviews per month `reviews_per_month` which serves as a proxy of the popularity of the listing. We work with a combination of categorical and numeric features such as the name of the listing, neighbourhood, price, and number of reviews to name a few. Given that the target is numeric, the task will be a regression problem. Being able to accurately predict the number of reviews per month can help hosts identify areas of improvement or perhaps identify regions in the city where there are more popular listings."
   ]
  },
  {
   "cell_type": "code",
   "execution_count": 6,
   "metadata": {
    "tags": []
   },
   "outputs": [
    {
     "name": "stdout",
     "output_type": "stream",
     "text": [
      "<class 'pandas.core.frame.DataFrame'>\n",
      "RangeIndex: 48895 entries, 0 to 48894\n",
      "Data columns (total 16 columns):\n",
      " #   Column                          Non-Null Count  Dtype  \n",
      "---  ------                          --------------  -----  \n",
      " 0   id                              48895 non-null  int64  \n",
      " 1   name                            48879 non-null  object \n",
      " 2   host_id                         48895 non-null  int64  \n",
      " 3   host_name                       48874 non-null  object \n",
      " 4   neighbourhood_group             48895 non-null  object \n",
      " 5   neighbourhood                   48895 non-null  object \n",
      " 6   latitude                        48895 non-null  float64\n",
      " 7   longitude                       48895 non-null  float64\n",
      " 8   room_type                       48895 non-null  object \n",
      " 9   price                           48895 non-null  int64  \n",
      " 10  minimum_nights                  48895 non-null  int64  \n",
      " 11  number_of_reviews               48895 non-null  int64  \n",
      " 12  last_review                     38843 non-null  object \n",
      " 13  reviews_per_month               38843 non-null  float64\n",
      " 14  calculated_host_listings_count  48895 non-null  int64  \n",
      " 15  availability_365                48895 non-null  int64  \n",
      "dtypes: float64(3), int64(7), object(6)\n",
      "memory usage: 6.0+ MB\n"
     ]
    }
   ],
   "source": [
    "import pandas as pd\n",
    "bnb_df = pd.read_csv(\"data/AB_NYC_2019.csv\")\n",
    "bnb_df.info()"
   ]
  },
  {
   "cell_type": "markdown",
   "metadata": {},
   "source": [
    "We will drop the columns `name`, `id`, `host_id`, `host_name` and `last_review` since we believe those will not be useful in building the model. In particular, we drop `name` because we feel like the description of the listing can be misleading since it is up to the owner to describe their listing. There are also missing values in the target column `reviews_per_month`, so we will also drop the rows where the target is missing."
   ]
  },
  {
   "cell_type": "code",
   "execution_count": 7,
   "metadata": {},
   "outputs": [
    {
     "data": {
      "text/html": [
       "<div>\n",
       "<style scoped>\n",
       "    .dataframe tbody tr th:only-of-type {\n",
       "        vertical-align: middle;\n",
       "    }\n",
       "\n",
       "    .dataframe tbody tr th {\n",
       "        vertical-align: top;\n",
       "    }\n",
       "\n",
       "    .dataframe thead th {\n",
       "        text-align: right;\n",
       "    }\n",
       "</style>\n",
       "<table border=\"1\" class=\"dataframe\">\n",
       "  <thead>\n",
       "    <tr style=\"text-align: right;\">\n",
       "      <th></th>\n",
       "      <th>neighbourhood_group</th>\n",
       "      <th>neighbourhood</th>\n",
       "      <th>latitude</th>\n",
       "      <th>longitude</th>\n",
       "      <th>room_type</th>\n",
       "      <th>price</th>\n",
       "      <th>minimum_nights</th>\n",
       "      <th>number_of_reviews</th>\n",
       "      <th>reviews_per_month</th>\n",
       "      <th>calculated_host_listings_count</th>\n",
       "      <th>availability_365</th>\n",
       "    </tr>\n",
       "  </thead>\n",
       "  <tbody>\n",
       "    <tr>\n",
       "      <th>0</th>\n",
       "      <td>Brooklyn</td>\n",
       "      <td>Kensington</td>\n",
       "      <td>40.64749</td>\n",
       "      <td>-73.97237</td>\n",
       "      <td>Private room</td>\n",
       "      <td>149</td>\n",
       "      <td>1</td>\n",
       "      <td>9</td>\n",
       "      <td>0.21</td>\n",
       "      <td>6</td>\n",
       "      <td>365</td>\n",
       "    </tr>\n",
       "    <tr>\n",
       "      <th>1</th>\n",
       "      <td>Manhattan</td>\n",
       "      <td>Midtown</td>\n",
       "      <td>40.75362</td>\n",
       "      <td>-73.98377</td>\n",
       "      <td>Entire home/apt</td>\n",
       "      <td>225</td>\n",
       "      <td>1</td>\n",
       "      <td>45</td>\n",
       "      <td>0.38</td>\n",
       "      <td>2</td>\n",
       "      <td>355</td>\n",
       "    </tr>\n",
       "    <tr>\n",
       "      <th>3</th>\n",
       "      <td>Brooklyn</td>\n",
       "      <td>Clinton Hill</td>\n",
       "      <td>40.68514</td>\n",
       "      <td>-73.95976</td>\n",
       "      <td>Entire home/apt</td>\n",
       "      <td>89</td>\n",
       "      <td>1</td>\n",
       "      <td>270</td>\n",
       "      <td>4.64</td>\n",
       "      <td>1</td>\n",
       "      <td>194</td>\n",
       "    </tr>\n",
       "    <tr>\n",
       "      <th>4</th>\n",
       "      <td>Manhattan</td>\n",
       "      <td>East Harlem</td>\n",
       "      <td>40.79851</td>\n",
       "      <td>-73.94399</td>\n",
       "      <td>Entire home/apt</td>\n",
       "      <td>80</td>\n",
       "      <td>10</td>\n",
       "      <td>9</td>\n",
       "      <td>0.10</td>\n",
       "      <td>1</td>\n",
       "      <td>0</td>\n",
       "    </tr>\n",
       "    <tr>\n",
       "      <th>5</th>\n",
       "      <td>Manhattan</td>\n",
       "      <td>Murray Hill</td>\n",
       "      <td>40.74767</td>\n",
       "      <td>-73.97500</td>\n",
       "      <td>Entire home/apt</td>\n",
       "      <td>200</td>\n",
       "      <td>3</td>\n",
       "      <td>74</td>\n",
       "      <td>0.59</td>\n",
       "      <td>1</td>\n",
       "      <td>129</td>\n",
       "    </tr>\n",
       "  </tbody>\n",
       "</table>\n",
       "</div>"
      ],
      "text/plain": [
       "  neighbourhood_group neighbourhood  latitude  longitude        room_type  \\\n",
       "0            Brooklyn    Kensington  40.64749  -73.97237     Private room   \n",
       "1           Manhattan       Midtown  40.75362  -73.98377  Entire home/apt   \n",
       "3            Brooklyn  Clinton Hill  40.68514  -73.95976  Entire home/apt   \n",
       "4           Manhattan   East Harlem  40.79851  -73.94399  Entire home/apt   \n",
       "5           Manhattan   Murray Hill  40.74767  -73.97500  Entire home/apt   \n",
       "\n",
       "   price  minimum_nights  number_of_reviews  reviews_per_month  \\\n",
       "0    149               1                  9               0.21   \n",
       "1    225               1                 45               0.38   \n",
       "3     89               1                270               4.64   \n",
       "4     80              10                  9               0.10   \n",
       "5    200               3                 74               0.59   \n",
       "\n",
       "   calculated_host_listings_count  availability_365  \n",
       "0                               6               365  \n",
       "1                               2               355  \n",
       "3                               1               194  \n",
       "4                               1                 0  \n",
       "5                               1               129  "
      ]
     },
     "execution_count": 7,
     "metadata": {},
     "output_type": "execute_result"
    }
   ],
   "source": [
    "bnb_df = bnb_df.drop(columns=[\"name\", \"id\", \"host_id\", \"host_name\", \"last_review\"])\n",
    "bnb_df = bnb_df.dropna(subset=[\"reviews_per_month\"])\n",
    "bnb_df.head()"
   ]
  },
  {
   "cell_type": "code",
   "execution_count": 8,
   "metadata": {},
   "outputs": [
    {
     "name": "stdout",
     "output_type": "stream",
     "text": [
      "<class 'pandas.core.frame.DataFrame'>\n",
      "Int64Index: 38843 entries, 0 to 48852\n",
      "Data columns (total 11 columns):\n",
      " #   Column                          Non-Null Count  Dtype  \n",
      "---  ------                          --------------  -----  \n",
      " 0   neighbourhood_group             38843 non-null  object \n",
      " 1   neighbourhood                   38843 non-null  object \n",
      " 2   latitude                        38843 non-null  float64\n",
      " 3   longitude                       38843 non-null  float64\n",
      " 4   room_type                       38843 non-null  object \n",
      " 5   price                           38843 non-null  int64  \n",
      " 6   minimum_nights                  38843 non-null  int64  \n",
      " 7   number_of_reviews               38843 non-null  int64  \n",
      " 8   reviews_per_month               38843 non-null  float64\n",
      " 9   calculated_host_listings_count  38843 non-null  int64  \n",
      " 10  availability_365                38843 non-null  int64  \n",
      "dtypes: float64(3), int64(5), object(3)\n",
      "memory usage: 3.6+ MB\n"
     ]
    }
   ],
   "source": [
    "bnb_df.info()"
   ]
  },
  {
   "cell_type": "markdown",
   "metadata": {},
   "source": [
    "<!-- END QUESTION -->\n",
    "\n",
    "<!-- BEGIN QUESTION -->\n",
    "\n",
    "<div class=\"alert alert-info\">\n",
    "\n",
    "## 2. Data splitting <a name=\"2\"></a>\n",
    "rubric={reasoning}\n",
    "\n",
    "**Your tasks:**\n",
    "\n",
    "1. Split the data into train and test portions.\n",
    "\n",
    "> Make the decision on the `test_size` based on the capacity of your laptop. \n",
    "    \n",
    "</div>\n",
    "\n",
    "_Points:_ 1"
   ]
  },
  {
   "cell_type": "code",
   "execution_count": 9,
   "metadata": {},
   "outputs": [],
   "source": [
    "train_df, test_df = train_test_split(bnb_df, test_size=0.6, random_state=573)"
   ]
  },
  {
   "cell_type": "markdown",
   "metadata": {},
   "source": [
    "<!-- END QUESTION -->\n",
    "\n",
    "<!-- BEGIN QUESTION -->\n",
    "\n",
    "<div class=\"alert alert-info\">\n",
    "\n",
    "## 3. EDA <a name=\"3\"></a>\n",
    "rubric={viz,reasoning}\n",
    "    \n",
    "Perform exploratory data analysis on the train set.\n",
    "\n",
    "**Your tasks:**\n",
    "\n",
    "1. Include at least two summary statistics and two visualizations that you find useful, and accompany each one with a sentence explaining it.\n",
    "2. Summarize your initial observations about the data. \n",
    "3. Pick appropriate metric/metrics for assessment. \n",
    "    \n",
    "</div>\n",
    "\n",
    "_Points:_ 6"
   ]
  },
  {
   "cell_type": "code",
   "execution_count": 10,
   "metadata": {},
   "outputs": [
    {
     "data": {
      "text/html": [
       "<div>\n",
       "<style scoped>\n",
       "    .dataframe tbody tr th:only-of-type {\n",
       "        vertical-align: middle;\n",
       "    }\n",
       "\n",
       "    .dataframe tbody tr th {\n",
       "        vertical-align: top;\n",
       "    }\n",
       "\n",
       "    .dataframe thead th {\n",
       "        text-align: right;\n",
       "    }\n",
       "</style>\n",
       "<table border=\"1\" class=\"dataframe\">\n",
       "  <thead>\n",
       "    <tr style=\"text-align: right;\">\n",
       "      <th></th>\n",
       "      <th>neighbourhood_group</th>\n",
       "      <th>neighbourhood</th>\n",
       "      <th>latitude</th>\n",
       "      <th>longitude</th>\n",
       "      <th>room_type</th>\n",
       "      <th>price</th>\n",
       "      <th>minimum_nights</th>\n",
       "      <th>number_of_reviews</th>\n",
       "      <th>reviews_per_month</th>\n",
       "      <th>calculated_host_listings_count</th>\n",
       "      <th>availability_365</th>\n",
       "    </tr>\n",
       "  </thead>\n",
       "  <tbody>\n",
       "    <tr>\n",
       "      <th>count</th>\n",
       "      <td>15537</td>\n",
       "      <td>15537</td>\n",
       "      <td>15537.000000</td>\n",
       "      <td>15537.000000</td>\n",
       "      <td>15537</td>\n",
       "      <td>15537.000000</td>\n",
       "      <td>15537.000000</td>\n",
       "      <td>15537.000000</td>\n",
       "      <td>15537.000000</td>\n",
       "      <td>15537.000000</td>\n",
       "      <td>15537.000000</td>\n",
       "    </tr>\n",
       "    <tr>\n",
       "      <th>unique</th>\n",
       "      <td>5</td>\n",
       "      <td>203</td>\n",
       "      <td>NaN</td>\n",
       "      <td>NaN</td>\n",
       "      <td>3</td>\n",
       "      <td>NaN</td>\n",
       "      <td>NaN</td>\n",
       "      <td>NaN</td>\n",
       "      <td>NaN</td>\n",
       "      <td>NaN</td>\n",
       "      <td>NaN</td>\n",
       "    </tr>\n",
       "    <tr>\n",
       "      <th>top</th>\n",
       "      <td>Manhattan</td>\n",
       "      <td>Williamsburg</td>\n",
       "      <td>NaN</td>\n",
       "      <td>NaN</td>\n",
       "      <td>Entire home/apt</td>\n",
       "      <td>NaN</td>\n",
       "      <td>NaN</td>\n",
       "      <td>NaN</td>\n",
       "      <td>NaN</td>\n",
       "      <td>NaN</td>\n",
       "      <td>NaN</td>\n",
       "    </tr>\n",
       "    <tr>\n",
       "      <th>freq</th>\n",
       "      <td>6798</td>\n",
       "      <td>1271</td>\n",
       "      <td>NaN</td>\n",
       "      <td>NaN</td>\n",
       "      <td>8108</td>\n",
       "      <td>NaN</td>\n",
       "      <td>NaN</td>\n",
       "      <td>NaN</td>\n",
       "      <td>NaN</td>\n",
       "      <td>NaN</td>\n",
       "      <td>NaN</td>\n",
       "    </tr>\n",
       "    <tr>\n",
       "      <th>mean</th>\n",
       "      <td>NaN</td>\n",
       "      <td>NaN</td>\n",
       "      <td>40.728591</td>\n",
       "      <td>-73.951471</td>\n",
       "      <td>NaN</td>\n",
       "      <td>142.613632</td>\n",
       "      <td>5.831242</td>\n",
       "      <td>29.530669</td>\n",
       "      <td>1.376337</td>\n",
       "      <td>5.088949</td>\n",
       "      <td>115.234215</td>\n",
       "    </tr>\n",
       "    <tr>\n",
       "      <th>std</th>\n",
       "      <td>NaN</td>\n",
       "      <td>NaN</td>\n",
       "      <td>0.054980</td>\n",
       "      <td>0.046506</td>\n",
       "      <td>NaN</td>\n",
       "      <td>204.936546</td>\n",
       "      <td>16.574092</td>\n",
       "      <td>48.213649</td>\n",
       "      <td>1.714032</td>\n",
       "      <td>26.084792</td>\n",
       "      <td>129.629791</td>\n",
       "    </tr>\n",
       "    <tr>\n",
       "      <th>min</th>\n",
       "      <td>NaN</td>\n",
       "      <td>NaN</td>\n",
       "      <td>40.508680</td>\n",
       "      <td>-74.244420</td>\n",
       "      <td>NaN</td>\n",
       "      <td>0.000000</td>\n",
       "      <td>1.000000</td>\n",
       "      <td>1.000000</td>\n",
       "      <td>0.010000</td>\n",
       "      <td>1.000000</td>\n",
       "      <td>0.000000</td>\n",
       "    </tr>\n",
       "    <tr>\n",
       "      <th>25%</th>\n",
       "      <td>NaN</td>\n",
       "      <td>NaN</td>\n",
       "      <td>40.689070</td>\n",
       "      <td>-73.982990</td>\n",
       "      <td>NaN</td>\n",
       "      <td>69.000000</td>\n",
       "      <td>1.000000</td>\n",
       "      <td>3.000000</td>\n",
       "      <td>0.200000</td>\n",
       "      <td>1.000000</td>\n",
       "      <td>0.000000</td>\n",
       "    </tr>\n",
       "    <tr>\n",
       "      <th>50%</th>\n",
       "      <td>NaN</td>\n",
       "      <td>NaN</td>\n",
       "      <td>40.721660</td>\n",
       "      <td>-73.955090</td>\n",
       "      <td>NaN</td>\n",
       "      <td>101.000000</td>\n",
       "      <td>2.000000</td>\n",
       "      <td>10.000000</td>\n",
       "      <td>0.730000</td>\n",
       "      <td>1.000000</td>\n",
       "      <td>57.000000</td>\n",
       "    </tr>\n",
       "    <tr>\n",
       "      <th>75%</th>\n",
       "      <td>NaN</td>\n",
       "      <td>NaN</td>\n",
       "      <td>40.763450</td>\n",
       "      <td>-73.935630</td>\n",
       "      <td>NaN</td>\n",
       "      <td>170.000000</td>\n",
       "      <td>4.000000</td>\n",
       "      <td>33.000000</td>\n",
       "      <td>2.020000</td>\n",
       "      <td>2.000000</td>\n",
       "      <td>231.000000</td>\n",
       "    </tr>\n",
       "    <tr>\n",
       "      <th>max</th>\n",
       "      <td>NaN</td>\n",
       "      <td>NaN</td>\n",
       "      <td>40.912340</td>\n",
       "      <td>-73.712990</td>\n",
       "      <td>NaN</td>\n",
       "      <td>10000.000000</td>\n",
       "      <td>999.000000</td>\n",
       "      <td>629.000000</td>\n",
       "      <td>58.500000</td>\n",
       "      <td>327.000000</td>\n",
       "      <td>365.000000</td>\n",
       "    </tr>\n",
       "  </tbody>\n",
       "</table>\n",
       "</div>"
      ],
      "text/plain": [
       "       neighbourhood_group neighbourhood      latitude     longitude  \\\n",
       "count                15537         15537  15537.000000  15537.000000   \n",
       "unique                   5           203           NaN           NaN   \n",
       "top              Manhattan  Williamsburg           NaN           NaN   \n",
       "freq                  6798          1271           NaN           NaN   \n",
       "mean                   NaN           NaN     40.728591    -73.951471   \n",
       "std                    NaN           NaN      0.054980      0.046506   \n",
       "min                    NaN           NaN     40.508680    -74.244420   \n",
       "25%                    NaN           NaN     40.689070    -73.982990   \n",
       "50%                    NaN           NaN     40.721660    -73.955090   \n",
       "75%                    NaN           NaN     40.763450    -73.935630   \n",
       "max                    NaN           NaN     40.912340    -73.712990   \n",
       "\n",
       "              room_type         price  minimum_nights  number_of_reviews  \\\n",
       "count             15537  15537.000000    15537.000000       15537.000000   \n",
       "unique                3           NaN             NaN                NaN   \n",
       "top     Entire home/apt           NaN             NaN                NaN   \n",
       "freq               8108           NaN             NaN                NaN   \n",
       "mean                NaN    142.613632        5.831242          29.530669   \n",
       "std                 NaN    204.936546       16.574092          48.213649   \n",
       "min                 NaN      0.000000        1.000000           1.000000   \n",
       "25%                 NaN     69.000000        1.000000           3.000000   \n",
       "50%                 NaN    101.000000        2.000000          10.000000   \n",
       "75%                 NaN    170.000000        4.000000          33.000000   \n",
       "max                 NaN  10000.000000      999.000000         629.000000   \n",
       "\n",
       "        reviews_per_month  calculated_host_listings_count  availability_365  \n",
       "count        15537.000000                    15537.000000      15537.000000  \n",
       "unique                NaN                             NaN               NaN  \n",
       "top                   NaN                             NaN               NaN  \n",
       "freq                  NaN                             NaN               NaN  \n",
       "mean             1.376337                        5.088949        115.234215  \n",
       "std              1.714032                       26.084792        129.629791  \n",
       "min              0.010000                        1.000000          0.000000  \n",
       "25%              0.200000                        1.000000          0.000000  \n",
       "50%              0.730000                        1.000000         57.000000  \n",
       "75%              2.020000                        2.000000        231.000000  \n",
       "max             58.500000                      327.000000        365.000000  "
      ]
     },
     "execution_count": 10,
     "metadata": {},
     "output_type": "execute_result"
    }
   ],
   "source": [
    "train_df.describe(include=\"all\")"
   ]
  },
  {
   "cell_type": "markdown",
   "metadata": {},
   "source": [
    "From `df.describe()`, we can see the counts of each feature (no missing values), the top unique features for categorical features, and the distribution of numeric features. In particular, it should be noted that there are many different values for `neighourhood`, whereas for `neighbourhood_group` and `room_type` there are only a few different values."
   ]
  },
  {
   "cell_type": "code",
   "execution_count": 11,
   "metadata": {},
   "outputs": [
    {
     "data": {
      "text/html": [
       "<style type=\"text/css\">\n",
       "#T_470be_row0_col0, #T_470be_row1_col1, #T_470be_row2_col2, #T_470be_row3_col3, #T_470be_row4_col4, #T_470be_row5_col5, #T_470be_row6_col6, #T_470be_row7_col7 {\n",
       "  background-color: #023858;\n",
       "  color: #f1f1f1;\n",
       "}\n",
       "#T_470be_row0_col1 {\n",
       "  background-color: #b7c5df;\n",
       "  color: #000000;\n",
       "}\n",
       "#T_470be_row0_col2, #T_470be_row3_col2 {\n",
       "  background-color: #a5bddb;\n",
       "  color: #000000;\n",
       "}\n",
       "#T_470be_row0_col3, #T_470be_row1_col6 {\n",
       "  background-color: #d5d5e8;\n",
       "  color: #000000;\n",
       "}\n",
       "#T_470be_row0_col4 {\n",
       "  background-color: #ede8f3;\n",
       "  color: #000000;\n",
       "}\n",
       "#T_470be_row0_col5, #T_470be_row1_col4 {\n",
       "  background-color: #dcdaeb;\n",
       "  color: #000000;\n",
       "}\n",
       "#T_470be_row0_col6, #T_470be_row1_col3 {\n",
       "  background-color: #ece7f2;\n",
       "  color: #000000;\n",
       "}\n",
       "#T_470be_row0_col7, #T_470be_row1_col2, #T_470be_row2_col1, #T_470be_row2_col6, #T_470be_row3_col4, #T_470be_row3_col5, #T_470be_row5_col0, #T_470be_row5_col3, #T_470be_row7_col0 {\n",
       "  background-color: #fff7fb;\n",
       "  color: #000000;\n",
       "}\n",
       "#T_470be_row1_col0 {\n",
       "  background-color: #f5eff6;\n",
       "  color: #000000;\n",
       "}\n",
       "#T_470be_row1_col5 {\n",
       "  background-color: #bcc7e1;\n",
       "  color: #000000;\n",
       "}\n",
       "#T_470be_row1_col7 {\n",
       "  background-color: #eee9f3;\n",
       "  color: #000000;\n",
       "}\n",
       "#T_470be_row2_col0 {\n",
       "  background-color: #e9e5f1;\n",
       "  color: #000000;\n",
       "}\n",
       "#T_470be_row2_col3 {\n",
       "  background-color: #bdc8e1;\n",
       "  color: #000000;\n",
       "}\n",
       "#T_470be_row2_col4 {\n",
       "  background-color: #ede7f2;\n",
       "  color: #000000;\n",
       "}\n",
       "#T_470be_row2_col5 {\n",
       "  background-color: #dbdaeb;\n",
       "  color: #000000;\n",
       "}\n",
       "#T_470be_row2_col7, #T_470be_row4_col3 {\n",
       "  background-color: #f1ebf4;\n",
       "  color: #000000;\n",
       "}\n",
       "#T_470be_row3_col0 {\n",
       "  background-color: #f9f2f8;\n",
       "  color: #000000;\n",
       "}\n",
       "#T_470be_row3_col1 {\n",
       "  background-color: #d8d7e9;\n",
       "  color: #000000;\n",
       "}\n",
       "#T_470be_row3_col6 {\n",
       "  background-color: #e7e3f0;\n",
       "  color: #000000;\n",
       "}\n",
       "#T_470be_row3_col7 {\n",
       "  background-color: #f7f0f7;\n",
       "  color: #000000;\n",
       "}\n",
       "#T_470be_row4_col0, #T_470be_row6_col0 {\n",
       "  background-color: #fef6fa;\n",
       "  color: #000000;\n",
       "}\n",
       "#T_470be_row4_col1 {\n",
       "  background-color: #afc1dd;\n",
       "  color: #000000;\n",
       "}\n",
       "#T_470be_row4_col2 {\n",
       "  background-color: #c4cbe3;\n",
       "  color: #000000;\n",
       "}\n",
       "#T_470be_row4_col5 {\n",
       "  background-color: #056dac;\n",
       "  color: #f1f1f1;\n",
       "}\n",
       "#T_470be_row4_col6 {\n",
       "  background-color: #d9d8ea;\n",
       "  color: #000000;\n",
       "}\n",
       "#T_470be_row4_col7 {\n",
       "  background-color: #bbc7e0;\n",
       "  color: #000000;\n",
       "}\n",
       "#T_470be_row5_col1 {\n",
       "  background-color: #a4bcda;\n",
       "  color: #000000;\n",
       "}\n",
       "#T_470be_row5_col2 {\n",
       "  background-color: #c5cce3;\n",
       "  color: #000000;\n",
       "}\n",
       "#T_470be_row5_col4 {\n",
       "  background-color: #0872b1;\n",
       "  color: #f1f1f1;\n",
       "}\n",
       "#T_470be_row5_col6 {\n",
       "  background-color: #c9cee4;\n",
       "  color: #000000;\n",
       "}\n",
       "#T_470be_row5_col7 {\n",
       "  background-color: #99b8d8;\n",
       "  color: #000000;\n",
       "}\n",
       "#T_470be_row6_col1 {\n",
       "  background-color: #a9bfdc;\n",
       "  color: #000000;\n",
       "}\n",
       "#T_470be_row6_col2 {\n",
       "  background-color: #e0deed;\n",
       "  color: #000000;\n",
       "}\n",
       "#T_470be_row6_col3 {\n",
       "  background-color: #d7d6e9;\n",
       "  color: #000000;\n",
       "}\n",
       "#T_470be_row6_col4 {\n",
       "  background-color: #dad9ea;\n",
       "  color: #000000;\n",
       "}\n",
       "#T_470be_row6_col5 {\n",
       "  background-color: #b4c4df;\n",
       "  color: #000000;\n",
       "}\n",
       "#T_470be_row6_col7 {\n",
       "  background-color: #9ebad9;\n",
       "  color: #000000;\n",
       "}\n",
       "#T_470be_row7_col1 {\n",
       "  background-color: #acc0dd;\n",
       "  color: #000000;\n",
       "}\n",
       "#T_470be_row7_col2 {\n",
       "  background-color: #b0c2de;\n",
       "  color: #000000;\n",
       "}\n",
       "#T_470be_row7_col3 {\n",
       "  background-color: #d2d3e7;\n",
       "  color: #000000;\n",
       "}\n",
       "#T_470be_row7_col4 {\n",
       "  background-color: #a1bbda;\n",
       "  color: #000000;\n",
       "}\n",
       "#T_470be_row7_col5 {\n",
       "  background-color: #69a5cc;\n",
       "  color: #f1f1f1;\n",
       "}\n",
       "#T_470be_row7_col6 {\n",
       "  background-color: #81aed2;\n",
       "  color: #f1f1f1;\n",
       "}\n",
       "</style>\n",
       "<table id=\"T_470be\">\n",
       "  <thead>\n",
       "    <tr>\n",
       "      <th class=\"blank level0\" >&nbsp;</th>\n",
       "      <th id=\"T_470be_level0_col0\" class=\"col_heading level0 col0\" >latitude</th>\n",
       "      <th id=\"T_470be_level0_col1\" class=\"col_heading level0 col1\" >longitude</th>\n",
       "      <th id=\"T_470be_level0_col2\" class=\"col_heading level0 col2\" >price</th>\n",
       "      <th id=\"T_470be_level0_col3\" class=\"col_heading level0 col3\" >minimum_nights</th>\n",
       "      <th id=\"T_470be_level0_col4\" class=\"col_heading level0 col4\" >number_of_reviews</th>\n",
       "      <th id=\"T_470be_level0_col5\" class=\"col_heading level0 col5\" >reviews_per_month</th>\n",
       "      <th id=\"T_470be_level0_col6\" class=\"col_heading level0 col6\" >calculated_host_listings_count</th>\n",
       "      <th id=\"T_470be_level0_col7\" class=\"col_heading level0 col7\" >availability_365</th>\n",
       "    </tr>\n",
       "  </thead>\n",
       "  <tbody>\n",
       "    <tr>\n",
       "      <th id=\"T_470be_level0_row0\" class=\"row_heading level0 row0\" >latitude</th>\n",
       "      <td id=\"T_470be_row0_col0\" class=\"data row0 col0\" >1.000000</td>\n",
       "      <td id=\"T_470be_row0_col1\" class=\"data row0 col1\" >0.040003</td>\n",
       "      <td id=\"T_470be_row0_col2\" class=\"data row0 col2\" >0.116224</td>\n",
       "      <td id=\"T_470be_row0_col3\" class=\"data row0 col3\" >0.012909</td>\n",
       "      <td id=\"T_470be_row0_col4\" class=\"data row0 col4\" >-0.018017</td>\n",
       "      <td id=\"T_470be_row0_col5\" class=\"data row0 col5\" >-0.026249</td>\n",
       "      <td id=\"T_470be_row0_col6\" class=\"data row0 col6\" >-0.017908</td>\n",
       "      <td id=\"T_470be_row0_col7\" class=\"data row0 col7\" >-0.028150</td>\n",
       "    </tr>\n",
       "    <tr>\n",
       "      <th id=\"T_470be_level0_row1\" class=\"row_heading level0 row1\" >longitude</th>\n",
       "      <td id=\"T_470be_row1_col0\" class=\"data row1 col0\" >0.040003</td>\n",
       "      <td id=\"T_470be_row1_col1\" class=\"data row1 col1\" >1.000000</td>\n",
       "      <td id=\"T_470be_row1_col2\" class=\"data row1 col2\" >-0.421945</td>\n",
       "      <td id=\"T_470be_row1_col3\" class=\"data row1 col3\" >-0.116255</td>\n",
       "      <td id=\"T_470be_row1_col4\" class=\"data row1 col4\" >0.074708</td>\n",
       "      <td id=\"T_470be_row1_col5\" class=\"data row1 col5\" >0.117891</td>\n",
       "      <td id=\"T_470be_row1_col6\" class=\"data row1 col6\" >0.099812</td>\n",
       "      <td id=\"T_470be_row1_col7\" class=\"data row1 col7\" >0.084432</td>\n",
       "    </tr>\n",
       "    <tr>\n",
       "      <th id=\"T_470be_level0_row2\" class=\"row_heading level0 row2\" >price</th>\n",
       "      <td id=\"T_470be_row2_col0\" class=\"data row2 col0\" >0.116224</td>\n",
       "      <td id=\"T_470be_row2_col1\" class=\"data row2 col1\" >-0.421945</td>\n",
       "      <td id=\"T_470be_row2_col2\" class=\"data row2 col2\" >1.000000</td>\n",
       "      <td id=\"T_470be_row2_col3\" class=\"data row2 col3\" >0.112123</td>\n",
       "      <td id=\"T_470be_row2_col4\" class=\"data row2 col4\" >-0.012634</td>\n",
       "      <td id=\"T_470be_row2_col5\" class=\"data row2 col5\" >-0.018155</td>\n",
       "      <td id=\"T_470be_row2_col6\" class=\"data row2 col6\" >-0.168354</td>\n",
       "      <td id=\"T_470be_row2_col7\" class=\"data row2 col7\" >0.068478</td>\n",
       "    </tr>\n",
       "    <tr>\n",
       "      <th id=\"T_470be_level0_row3\" class=\"row_heading level0 row3\" >minimum_nights</th>\n",
       "      <td id=\"T_470be_row3_col0\" class=\"data row3 col0\" >0.012909</td>\n",
       "      <td id=\"T_470be_row3_col1\" class=\"data row3 col1\" >-0.116255</td>\n",
       "      <td id=\"T_470be_row3_col2\" class=\"data row3 col2\" >0.112123</td>\n",
       "      <td id=\"T_470be_row3_col3\" class=\"data row3 col3\" >1.000000</td>\n",
       "      <td id=\"T_470be_row3_col4\" class=\"data row3 col4\" >-0.153568</td>\n",
       "      <td id=\"T_470be_row3_col5\" class=\"data row3 col5\" >-0.277524</td>\n",
       "      <td id=\"T_470be_row3_col6\" class=\"data row3 col6\" >0.001948</td>\n",
       "      <td id=\"T_470be_row3_col7\" class=\"data row3 col7\" >0.030722</td>\n",
       "    </tr>\n",
       "    <tr>\n",
       "      <th id=\"T_470be_level0_row4\" class=\"row_heading level0 row4\" >number_of_reviews</th>\n",
       "      <td id=\"T_470be_row4_col0\" class=\"data row4 col0\" >-0.018017</td>\n",
       "      <td id=\"T_470be_row4_col1\" class=\"data row4 col1\" >0.074708</td>\n",
       "      <td id=\"T_470be_row4_col2\" class=\"data row4 col2\" >-0.012634</td>\n",
       "      <td id=\"T_470be_row4_col3\" class=\"data row4 col3\" >-0.153568</td>\n",
       "      <td id=\"T_470be_row4_col4\" class=\"data row4 col4\" >1.000000</td>\n",
       "      <td id=\"T_470be_row4_col5\" class=\"data row4 col5\" >0.699079</td>\n",
       "      <td id=\"T_470be_row4_col6\" class=\"data row4 col6\" >0.081178</td>\n",
       "      <td id=\"T_470be_row4_col7\" class=\"data row4 col7\" >0.293827</td>\n",
       "    </tr>\n",
       "    <tr>\n",
       "      <th id=\"T_470be_level0_row5\" class=\"row_heading level0 row5\" >reviews_per_month</th>\n",
       "      <td id=\"T_470be_row5_col0\" class=\"data row5 col0\" >-0.026249</td>\n",
       "      <td id=\"T_470be_row5_col1\" class=\"data row5 col1\" >0.117891</td>\n",
       "      <td id=\"T_470be_row5_col2\" class=\"data row5 col2\" >-0.018155</td>\n",
       "      <td id=\"T_470be_row5_col3\" class=\"data row5 col3\" >-0.277524</td>\n",
       "      <td id=\"T_470be_row5_col4\" class=\"data row5 col4\" >0.699079</td>\n",
       "      <td id=\"T_470be_row5_col5\" class=\"data row5 col5\" >1.000000</td>\n",
       "      <td id=\"T_470be_row5_col6\" class=\"data row5 col6\" >0.147340</td>\n",
       "      <td id=\"T_470be_row5_col7\" class=\"data row5 col7\" >0.390578</td>\n",
       "    </tr>\n",
       "    <tr>\n",
       "      <th id=\"T_470be_level0_row6\" class=\"row_heading level0 row6\" >calculated_host_listings_count</th>\n",
       "      <td id=\"T_470be_row6_col0\" class=\"data row6 col0\" >-0.017908</td>\n",
       "      <td id=\"T_470be_row6_col1\" class=\"data row6 col1\" >0.099812</td>\n",
       "      <td id=\"T_470be_row6_col2\" class=\"data row6 col2\" >-0.168354</td>\n",
       "      <td id=\"T_470be_row6_col3\" class=\"data row6 col3\" >0.001948</td>\n",
       "      <td id=\"T_470be_row6_col4\" class=\"data row6 col4\" >0.081178</td>\n",
       "      <td id=\"T_470be_row6_col5\" class=\"data row6 col5\" >0.147340</td>\n",
       "      <td id=\"T_470be_row6_col6\" class=\"data row6 col6\" >1.000000</td>\n",
       "      <td id=\"T_470be_row6_col7\" class=\"data row6 col7\" >0.377589</td>\n",
       "    </tr>\n",
       "    <tr>\n",
       "      <th id=\"T_470be_level0_row7\" class=\"row_heading level0 row7\" >availability_365</th>\n",
       "      <td id=\"T_470be_row7_col0\" class=\"data row7 col0\" >-0.028150</td>\n",
       "      <td id=\"T_470be_row7_col1\" class=\"data row7 col1\" >0.084432</td>\n",
       "      <td id=\"T_470be_row7_col2\" class=\"data row7 col2\" >0.068478</td>\n",
       "      <td id=\"T_470be_row7_col3\" class=\"data row7 col3\" >0.030722</td>\n",
       "      <td id=\"T_470be_row7_col4\" class=\"data row7 col4\" >0.293827</td>\n",
       "      <td id=\"T_470be_row7_col5\" class=\"data row7 col5\" >0.390578</td>\n",
       "      <td id=\"T_470be_row7_col6\" class=\"data row7 col6\" >0.377589</td>\n",
       "      <td id=\"T_470be_row7_col7\" class=\"data row7 col7\" >1.000000</td>\n",
       "    </tr>\n",
       "  </tbody>\n",
       "</table>\n"
      ],
      "text/plain": [
       "<pandas.io.formats.style.Styler at 0x139849a20>"
      ]
     },
     "execution_count": 11,
     "metadata": {},
     "output_type": "execute_result"
    }
   ],
   "source": [
    "train_df.corr('spearman').style.background_gradient()"
   ]
  },
  {
   "cell_type": "markdown",
   "metadata": {},
   "source": [
    "Looking at the correlation matrix, we can see there is a positive correlation between `number_of_reviews` and `reviews_per_month`. Aside from that, however, there does not appear to be other significant positive or negative correlations."
   ]
  },
  {
   "cell_type": "code",
   "execution_count": 12,
   "metadata": {},
   "outputs": [
    {
     "data": {
      "application/vnd.vegalite.v4+json": {
       "$schema": "https://vega.github.io/schema/vega-lite/v4.17.0.json",
       "config": {
        "view": {
         "continuousHeight": 300,
         "continuousWidth": 400
        }
       },
       "data": {
        "url": "http://localhost:59412/1fc1f0628daf81fae5202556b4446b33.json"
       },
       "encoding": {
        "x": {
         "bin": {
          "maxbins": 30
         },
         "field": "reviews_per_month",
         "title": "Reviews per month",
         "type": "quantitative"
        },
        "y": {
         "aggregate": "count",
         "title": "Count",
         "type": "quantitative"
        }
       },
       "mark": "bar",
       "title": "Distribution of Reviews per Month"
      },
      "text/plain": [
       "<VegaLite 4 object>\n",
       "\n",
       "If you see this message, it means the renderer has not been properly enabled\n",
       "for the frontend that you are using. For more information, see\n",
       "https://altair-viz.github.io/user_guide/troubleshooting.html\n"
      ]
     },
     "execution_count": 12,
     "metadata": {},
     "output_type": "execute_result"
    }
   ],
   "source": [
    "target_dist = alt.Chart(\n",
    "    train_df,\n",
    "    title = \"Distribution of Reviews per Month\"\n",
    ").mark_bar().encode(\n",
    "    x = alt.X(\"reviews_per_month\", bin=alt.Bin(maxbins=30), title=\"Reviews per month\"),\n",
    "    y = alt.Y(\"count()\", title=\"Count\")\n",
    ")\n",
    "target_dist"
   ]
  },
  {
   "cell_type": "markdown",
   "metadata": {},
   "source": [
    "We can see that the distribution of the target `reviews_per_month` is highly right-skewed. Most values are between 0-2, meaning that most Airbnbs listings do not have many customers each month."
   ]
  },
  {
   "cell_type": "code",
   "execution_count": 13,
   "metadata": {},
   "outputs": [
    {
     "data": {
      "application/vnd.vegalite.v4+json": {
       "$schema": "https://vega.github.io/schema/vega-lite/v4.17.0.json",
       "columns": 3,
       "config": {
        "view": {
         "continuousHeight": 300,
         "continuousWidth": 400
        }
       },
       "repeat": [
        "latitude",
        "longitude",
        "price",
        "minimum_nights",
        "number_of_reviews",
        "calculated_host_listings_count",
        "availability_365"
       ],
       "spec": {
        "data": {
         "url": "http://localhost:59412/1fc1f0628daf81fae5202556b4446b33.json"
        },
        "encoding": {
         "x": {
          "field": {
           "repeat": "repeat"
          },
          "type": "quantitative"
         },
         "y": {
          "aggregate": "count",
          "type": "quantitative"
         }
        },
        "height": 200,
        "mark": "bar",
        "width": 200
       },
       "title": {
        "anchor": "middle",
        "text": "Distribution of Numeric Features"
       }
      },
      "text/plain": [
       "<VegaLite 4 object>\n",
       "\n",
       "If you see this message, it means the renderer has not been properly enabled\n",
       "for the frontend that you are using. For more information, see\n",
       "https://altair-viz.github.io/user_guide/troubleshooting.html\n"
      ]
     },
     "execution_count": 13,
     "metadata": {},
     "output_type": "execute_result"
    }
   ],
   "source": [
    "numeric_feats = train_df.select_dtypes(include=\"number\").columns.tolist()\n",
    "numeric_feats.remove(\"reviews_per_month\")\n",
    "numeric_feats_bar_chart = alt.Chart(train_df).mark_bar().encode(\n",
    "    x = alt.X(alt.repeat(), type=\"quantitative\"),\n",
    "    y = \"count()\"\n",
    ").properties(\n",
    "    width=200,\n",
    "    height=200\n",
    ").repeat(\n",
    "    numeric_feats,\n",
    "    columns=3\n",
    ")\n",
    "numeric_feats_bar_chart.properties(title = alt.TitleParams(text=\"Distribution of Numeric Features\", anchor=\"middle\"))"
   ]
  },
  {
   "cell_type": "markdown",
   "metadata": {},
   "source": [
    "We can see that most numeric features are right-skewed, as with `price`, `minimum_nights`, `number_of_reviews`, and `calculated_host_listings_count`."
   ]
  },
  {
   "cell_type": "markdown",
   "metadata": {},
   "source": [
    "<!-- END QUESTION -->\n",
    "\n",
    "<!-- BEGIN QUESTION -->\n",
    "\n",
    "<div class=\"alert alert-warning\">\n",
    "\n",
    "## 4. Feature engineering (Challenging)\n",
    "rubric={reasoning}\n",
    "\n",
    "**Your tasks:**\n",
    "\n",
    "1. Carry out feature engineering. In other words, extract new features relevant for the problem and work with your new feature set in the following exercises. You may have to go back and forth between feature engineering and preprocessing.\n",
    "    \n",
    "</div>\n",
    "\n",
    "_Points:_ 0.5"
   ]
  },
  {
   "cell_type": "code",
   "execution_count": 24,
   "metadata": {},
   "outputs": [],
   "source": [
    "discretization_features = [\"latitude\", \"longitude\"]\n",
    "\n",
    "discretization_transformer = make_pipeline(\n",
    "    SimpleImputer(strategy=\"constant\", fill_value=\"missing\"),\n",
    "    KBinsDiscretizer(n_bins=20, encode=\"onehot\")\n",
    ")"
   ]
  },
  {
   "cell_type": "markdown",
   "metadata": {},
   "source": [
    "<!-- END QUESTION -->\n",
    "\n",
    "<!-- BEGIN QUESTION -->\n",
    "\n",
    "<div class=\"alert alert-info\">\n",
    "\n",
    "## 5. Preprocessing and transformations <a name=\"5\"></a>\n",
    "rubric={accuracy,reasoning}\n",
    "\n",
    "**Your tasks:**\n",
    "\n",
    "1. Identify different feature types and the transformations you would apply on each feature type. \n",
    "2. Define a column transformer, if necessary. \n",
    "    \n",
    "</div>\n",
    "\n",
    "_Points:_ 4"
   ]
  },
  {
   "cell_type": "code",
   "execution_count": 15,
   "metadata": {
    "tags": []
   },
   "outputs": [
    {
     "data": {
      "text/plain": [
       "Ellipsis"
      ]
     },
     "execution_count": 15,
     "metadata": {},
     "output_type": "execute_result"
    }
   ],
   "source": [
    "numeric_features = [\"price\", \n",
    "                    \"minimum_nights\", \n",
    "                    \"number_of_reviews\", \n",
    "                    \"calculated_host_listings_count\"]\n",
    "\n",
    "categorical_features = [\"neighbourhood\", \n",
    "                        \"room_type\", \n",
    "                        \"neighbourhood_group\"]\n",
    "\n",
    "target_column = \"reviews_per_month\"\n",
    "\n",
    "\n",
    "numeric_transformer = make_pipeline(SimpleImputer(),\n",
    "                                    StandardScaler())\n",
    "\n",
    "categorical_transformer = make_pipeline(\n",
    "    SimpleImputer(strategy=\"constant\", fill_value=\"missing\"),\n",
    "    OneHotEncoder(handle_unknown=\"ignore\", sparse=False),\n",
    ")\n",
    "\n",
    "preprocessor = make_column_transformer(\n",
    "    (numeric_transformer, numeric_features),\n",
    "    (discretization_transformer, discretization_features),\n",
    "    (categorical_transformer, categorical_features),\n",
    ")"
   ]
  },
  {
   "cell_type": "markdown",
   "metadata": {},
   "source": [
    "<!-- END QUESTION -->\n",
    "\n",
    "<!-- BEGIN QUESTION -->\n",
    "\n",
    "<div class=\"alert alert-info\">\n",
    "\n",
    "## 6. Baseline model <a name=\"6\"></a>\n",
    "rubric={accuracy}\n",
    "\n",
    "**Your tasks:**\n",
    "1. Train a baseline model for your task and report its performance.\n",
    "    \n",
    "</div>\n",
    "\n",
    "_Points:_ 2"
   ]
  },
  {
   "cell_type": "code",
   "execution_count": 16,
   "metadata": {
    "tags": []
   },
   "outputs": [
    {
     "data": {
      "text/plain": [
       "Ellipsis"
      ]
     },
     "execution_count": 16,
     "metadata": {},
     "output_type": "execute_result"
    }
   ],
   "source": [
    "..."
   ]
  },
  {
   "cell_type": "markdown",
   "metadata": {},
   "source": [
    "<!-- END QUESTION -->\n",
    "\n",
    "<!-- BEGIN QUESTION -->\n",
    "\n",
    "<div class=\"alert alert-info\">\n",
    "\n",
    "## 7. Linear models <a name=\"7\"></a>\n",
    "rubric={accuracy,reasoning}\n",
    "\n",
    "**Your tasks:**\n",
    "\n",
    "1. Try a linear model as a first real attempt. \n",
    "2. Carry out hyperparameter tuning to explore different values for the regularization hyperparameter. \n",
    "3. Report cross-validation scores along with standard deviation. \n",
    "4. Summarize your results.\n",
    "    \n",
    "</div>\n",
    "\n",
    "_Points:_ 8"
   ]
  },
  {
   "cell_type": "markdown",
   "metadata": {},
   "source": [
    "_Type your answer here, replacing this text._"
   ]
  },
  {
   "cell_type": "code",
   "execution_count": 17,
   "metadata": {
    "tags": []
   },
   "outputs": [
    {
     "data": {
      "text/plain": [
       "Ellipsis"
      ]
     },
     "execution_count": 17,
     "metadata": {},
     "output_type": "execute_result"
    }
   ],
   "source": [
    "..."
   ]
  },
  {
   "cell_type": "markdown",
   "metadata": {},
   "source": [
    "<!-- END QUESTION -->\n",
    "\n",
    "<!-- BEGIN QUESTION -->\n",
    "\n",
    "<div class=\"alert alert-info\">\n",
    "\n",
    "## 8. Different models <a name=\"8\"></a>\n",
    "rubric={accuracy,reasoning}\n",
    "\n",
    "**Your tasks:**\n",
    "1. Try out three other models aside from the linear model. \n",
    "2. Summarize your results in terms of overfitting/underfitting and fit and score times. Can you beat the performance of the linear model? \n",
    "    \n",
    "</div>\n",
    "\n",
    "_Points:_ 10"
   ]
  },
  {
   "cell_type": "markdown",
   "metadata": {},
   "source": [
    "_Type your answer here, replacing this text._"
   ]
  },
  {
   "cell_type": "code",
   "execution_count": 18,
   "metadata": {
    "tags": []
   },
   "outputs": [
    {
     "data": {
      "text/plain": [
       "Ellipsis"
      ]
     },
     "execution_count": 18,
     "metadata": {},
     "output_type": "execute_result"
    }
   ],
   "source": [
    "..."
   ]
  },
  {
   "cell_type": "markdown",
   "metadata": {},
   "source": [
    "<!-- END QUESTION -->\n",
    "\n",
    "<!-- BEGIN QUESTION -->\n",
    "\n",
    "<div class=\"alert alert-warning\">\n",
    "\n",
    "## 9. Feature selection (Challenging)\n",
    "rubric={reasoning}\n",
    "\n",
    "**Your tasks:**\n",
    "\n",
    "Make some attempts to select relevant features. You may try `RFECV`, forward selection or L1 regularization for this. Do the results improve with feature selection? Summarize your results. If you see improvements in the results, keep feature selection in your pipeline. If not, you may abandon it in the next exercises unless you think there are other benefits with using less features.\n",
    "    \n",
    "</div>\n",
    "\n",
    "_Points:_ 0.5"
   ]
  },
  {
   "cell_type": "markdown",
   "metadata": {},
   "source": [
    "_Type your answer here, replacing this text._"
   ]
  },
  {
   "cell_type": "code",
   "execution_count": 19,
   "metadata": {
    "tags": []
   },
   "outputs": [
    {
     "data": {
      "text/plain": [
       "Ellipsis"
      ]
     },
     "execution_count": 19,
     "metadata": {},
     "output_type": "execute_result"
    }
   ],
   "source": [
    "..."
   ]
  },
  {
   "cell_type": "markdown",
   "metadata": {},
   "source": [
    "<!-- END QUESTION -->\n",
    "\n",
    "<!-- BEGIN QUESTION -->\n",
    "\n",
    "<div class=\"alert alert-info\">\n",
    "\n",
    "## 10. Hyperparameter optimization\n",
    "rubric={accuracy,reasoning}\n",
    "\n",
    "**Your tasks:**\n",
    "\n",
    "Make some attempts to optimize hyperparameters for the models you've tried and summarize your results. In at least one case you should be optimizing multiple hyperparameters for a single model. You may use `sklearn`'s methods for hyperparameter optimization or fancier Bayesian optimization methods. \n",
    "  - [GridSearchCV](http://scikit-learn.org/stable/modules/generated/sklearn.model_selection.GridSearchCV.html)   \n",
    "  - [RandomizedSearchCV](http://scikit-learn.org/stable/modules/generated/sklearn.model_selection.RandomizedSearchCV.html)\n",
    "  - [scikit-optimize](https://github.com/scikit-optimize/scikit-optimize) \n",
    "    \n",
    "</div>\n",
    "\n",
    "_Points:_ 6"
   ]
  },
  {
   "cell_type": "markdown",
   "metadata": {},
   "source": [
    "_Type your answer here, replacing this text._"
   ]
  },
  {
   "cell_type": "code",
   "execution_count": 20,
   "metadata": {
    "tags": []
   },
   "outputs": [
    {
     "data": {
      "text/plain": [
       "Ellipsis"
      ]
     },
     "execution_count": 20,
     "metadata": {},
     "output_type": "execute_result"
    }
   ],
   "source": [
    "..."
   ]
  },
  {
   "cell_type": "markdown",
   "metadata": {},
   "source": [
    "<!-- END QUESTION -->\n",
    "\n",
    "<!-- BEGIN QUESTION -->\n",
    "\n",
    "<div class=\"alert alert-info\">\n",
    "\n",
    "## 11. Interpretation and feature importances <a name=\"1\"></a>\n",
    "rubric={accuracy,reasoning}\n",
    "\n",
    "**Your tasks:**\n",
    "\n",
    "1. Use the methods we saw in class (e.g., `eli5`, `shap`) (or any other methods of your choice) to examine the most important features of one of the non-linear models. \n",
    "2. Summarize your observations. \n",
    "    \n",
    "</div>\n",
    "\n",
    "_Points:_ 8"
   ]
  },
  {
   "cell_type": "markdown",
   "metadata": {},
   "source": [
    "_Type your answer here, replacing this text._"
   ]
  },
  {
   "cell_type": "code",
   "execution_count": 21,
   "metadata": {
    "tags": []
   },
   "outputs": [
    {
     "data": {
      "text/plain": [
       "Ellipsis"
      ]
     },
     "execution_count": 21,
     "metadata": {},
     "output_type": "execute_result"
    }
   ],
   "source": [
    "..."
   ]
  },
  {
   "cell_type": "markdown",
   "metadata": {},
   "source": [
    "<!-- END QUESTION -->\n",
    "\n",
    "<!-- BEGIN QUESTION -->\n",
    "\n",
    "<div class=\"alert alert-info\">\n",
    "\n",
    "## 12. Results on the test set <a name=\"12\"></a>\n",
    "rubric={accuracy,reasoning}\n",
    "\n",
    "**Your tasks:**\n",
    "\n",
    "1. Try your best performing model on the test data and report test scores. \n",
    "2. Do the test scores agree with the validation scores from before? To what extent do you trust your results? Do you think you've had issues with optimization bias? \n",
    "3. Take one or two test predictions and explain them with SHAP force plots.  \n",
    "    \n",
    "</div>\n",
    "\n",
    "_Points:_ 6"
   ]
  },
  {
   "cell_type": "markdown",
   "metadata": {},
   "source": [
    "_Type your answer here, replacing this text._"
   ]
  },
  {
   "cell_type": "code",
   "execution_count": 22,
   "metadata": {
    "tags": []
   },
   "outputs": [
    {
     "data": {
      "text/plain": [
       "Ellipsis"
      ]
     },
     "execution_count": 22,
     "metadata": {},
     "output_type": "execute_result"
    }
   ],
   "source": [
    "..."
   ]
  },
  {
   "cell_type": "markdown",
   "metadata": {},
   "source": [
    "<!-- END QUESTION -->\n",
    "\n",
    "<!-- BEGIN QUESTION -->\n",
    "\n",
    "<div class=\"alert alert-info\">\n",
    "\n",
    "## 13. Summary of results <a name=\"13\"></a>\n",
    "rubric={reasoning}\n",
    "\n",
    "Imagine that you want to present the summary of these results to your boss and co-workers. \n",
    "\n",
    "**Your tasks:**\n",
    "\n",
    "1. Create a table summarizing important results. \n",
    "2. Write concluding remarks.\n",
    "3. Discuss other ideas that you did not try but could potentially improve the performance/interpretability . \n",
    "3. Report your final test score along with the metric you used at the top of this notebook.\n",
    "    \n",
    "</div>\n",
    "\n",
    "_Points:_ 8"
   ]
  },
  {
   "cell_type": "markdown",
   "metadata": {},
   "source": [
    "_Type your answer here, replacing this text._"
   ]
  },
  {
   "cell_type": "code",
   "execution_count": 23,
   "metadata": {
    "tags": []
   },
   "outputs": [
    {
     "data": {
      "text/plain": [
       "Ellipsis"
      ]
     },
     "execution_count": 23,
     "metadata": {},
     "output_type": "execute_result"
    }
   ],
   "source": [
    "..."
   ]
  },
  {
   "cell_type": "markdown",
   "metadata": {},
   "source": [
    "<!-- END QUESTION -->\n",
    "\n",
    "<!-- BEGIN QUESTION -->\n",
    "\n",
    "<div class=\"alert alert-warning\">\n",
    "\n",
    "## 14. Creating a data analysis pipeline (Challenging)\n",
    "rubric={reasoning}\n",
    "\n",
    "**Your tasks:**\n",
    "- In 522 you learned how build a reproducible data analysis pipeline. Convert this notebook into scripts and create a reproducible data analysis pipeline with appropriate documentation. Submit your project folder in addition to this notebook on GitHub and briefly comment on your organization in the text box below.\n",
    "    \n",
    "</div>\n",
    "\n",
    "_Points:_ 2"
   ]
  },
  {
   "cell_type": "markdown",
   "metadata": {},
   "source": [
    "_Type your answer here, replacing this text._"
   ]
  },
  {
   "cell_type": "markdown",
   "metadata": {},
   "source": [
    "<!-- END QUESTION -->\n",
    "\n",
    "<!-- BEGIN QUESTION -->\n",
    "\n",
    "<div class=\"alert alert-warning\">\n",
    "\n",
    "## 15. Your takeaway from the course (Challenging)\n",
    "rubric={reasoning}\n",
    "\n",
    "**Your tasks:**\n",
    "\n",
    "What is your biggest takeaway from this course? \n",
    "    \n",
    "</div>\n",
    "\n",
    "_Points:_ 0.25"
   ]
  },
  {
   "cell_type": "markdown",
   "metadata": {},
   "source": [
    "_Type your answer here, replacing this text._"
   ]
  },
  {
   "cell_type": "markdown",
   "metadata": {},
   "source": [
    "<!-- END QUESTION -->\n",
    "\n",
    "<div class=\"alert alert-danger\" style=\"color:black\">\n",
    "    \n",
    "**Restart, run all and export a PDF before submitting**\n",
    "    \n",
    "Before submitting,\n",
    "don't forget to run all cells in your notebook\n",
    "to make sure there are no errors\n",
    "and so that the TAs can see your plots on Gradescope.\n",
    "You can do this by clicking the ▶▶ button\n",
    "or going to `Kernel -> Restart Kernel and Run All Cells...` in the menu.\n",
    "This is not only important for MDS,\n",
    "but a good habit you should get into before ever committing a notebook to GitHub,\n",
    "so that your collaborators can run it from top to bottom\n",
    "without issues.\n",
    "    \n",
    "After running all the cells,\n",
    "export a PDF of the notebook (preferably the WebPDF export)\n",
    "and upload this PDF together with the ipynb file to Gradescope\n",
    "(you can select two files when uploading to Gradescope)\n",
    "</div>"
   ]
  },
  {
   "cell_type": "markdown",
   "metadata": {
    "tags": [
     "feedback"
    ]
   },
   "source": [
    "---\n",
    "\n",
    "## Help us improve the labs\n",
    "\n",
    "The MDS program is continually looking to improve our courses, including lab questions and content. The following optional questions will not affect your grade in any way nor will they be used for anything other than program improvement:\n",
    "\n",
    "1. Approximately how many hours did you spend working or thinking about this assignment (including lab time)?\n",
    "\n",
    "#Ans:\n",
    "\n",
    "2. Do you have any feedback on the lab you be willing to share? For example, any part or question that you particularly liked or disliked?\n",
    "\n",
    "#Ans:"
   ]
  }
 ],
 "metadata": {
  "kernelspec": {
   "display_name": "Python 3.10.6 ('573')",
   "language": "python",
   "name": "python3"
  },
  "language_info": {
   "codemirror_mode": {
    "name": "ipython",
    "version": 3
   },
   "file_extension": ".py",
   "mimetype": "text/x-python",
   "name": "python",
   "nbconvert_exporter": "python",
   "pygments_lexer": "ipython3",
   "version": "3.10.6"
  },
  "otter": {
   "OK_FORMAT": true,
   "tests": {}
  },
  "vscode": {
   "interpreter": {
    "hash": "358dce008af4630e887848149d7d06ed691bc39a3f90162c81a51e80989c3f70"
   }
  }
 },
 "nbformat": 4,
 "nbformat_minor": 4
}
